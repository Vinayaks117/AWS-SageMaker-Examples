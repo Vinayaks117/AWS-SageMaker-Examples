{
 "cells": [
  {
   "cell_type": "markdown",
   "id": "7d8e3bcc",
   "metadata": {},
   "source": [
    "<h3 style = \"font-size:40px; font-family:Garamond ; font-weight : normal; background-color: #007580; color :#fed049; text-align: center; border-radius: 5px 5px; padding: 5px\">Shadow deployment of ML models with Amazon SageMaker</h3>\n",
    "\n",
    "AWS has announced the shadow model deployment strategy support in Amazon SageMaker in `AWS re:Invent 2022`. Shadow testing helps us to minimize the risk of deploying a low performing model, minimize the downtime and monitor the model performance of the new model version for a period of time and can rollback if there is an issue with the new version.\n",
    "\n",
    "<img src = \"./img/shadow_deployment.jpg\" >\n",
    "\n",
    "**Shadow testing features**\n",
    "1. Run multiple model versions in parallel with one serving live traffic.\n",
    "2. Validate the new model version (shadow variant) without impact.\n",
    "3. Production variant accepts the request and serves the prediction response.\n",
    "4. Shadow variant will accept a user-defined portion of the requests, if required we can capture the response of shadow variant in S3 but it will not serve prediction responses to consumers.\n",
    "\n",
    "Once we are comfortable with the shadow variant then we can promote that shadow variant as a production variant and serve predictions from that model.\n",
    "\n",
    "**Shadow or challenger deployment use cases**\n",
    "1. Evaluate the model performance metrics such as model latency, overhead latency, model errors and invocation 5xx errors etc.\n",
    "2. Evaluate the model evaluation metrics such accuracy, f1 score, precision, recall and MSE etc.\n",
    "3. Evaluate the changes to model serving infrastructure like installing new dependencies, upgrading the model serving framework versions and container versions etc.\n",
    "\n",
    "If the new or updated model is performing better than the existing production model wrt above use cases then we can promote a new model as a production model.\n",
    "\n",
    "In `AWS re:Invent 2022`, they demonstrated the capabilities of shadow testing by using SageMaker console and SageMaker inference APIs for the first use case. We often improve the existing production models by collecting feedback from customers, retraining a model with new samples of data or by making use of model monitoring (model and data drift) components. So I would like to demonstrate how we can utilize the shadow testing feature in the second use case.\n",
    "\n",
    "In my [previous post](https://medium.com/analytics-vidhya/aws-sagemaker-train-deploy-and-update-a-hugging-face-bert-model-eeefc8211368), I have discussed how to fine-tune a HuggingFace BERT model on disaster tweets classification dataset using on-demand and spot instances, deploy that model on a real-time endpoint and update that endpoint as well."
   ]
  },
  {
   "cell_type": "markdown",
   "id": "04131d24",
   "metadata": {},
   "source": [
    "<a id = '0'></a>\n",
    "<h2 style = \"font-family: garamond; font-size: 40px; font-style: normal; letter-spcaing: 3px; background-color: #007580; color : #fed049; border-radius: 5px 5px; text-align:center; font-weight: bold\" > Table of Contents</h2>\n",
    "\n",
    "1. [Prepare model artifacts](#1.0)\n",
    "2. [Deploy tweet-classifier-v1 model (as production variant)](#2.0)\n",
    "3. [Get predictions from tweet-classifier-v1 model](#3.0)\n",
    "4. [Deploy tweet-classifier-v2 model (as shadow variant)](#4.0)\n",
    "5. [Get predictions from tweet-classifier-v2 model](#5.0)\n",
    "6. [View production variant captured data from S3](#6.0)\n",
    "7. [View shadow variant captured data from S3](#7.0)\n",
    "8. [Compare the model evaluation metrics](#8.0)\n",
    "9. [Promote the shadow variant as a production variant](#9.0)\n",
    "10. [Clean up](#10.0)\n",
    "11. [References and acknowledgements](#11.0)"
   ]
  },
  {
   "cell_type": "markdown",
   "id": "dc34997d",
   "metadata": {},
   "source": [
    "<a id = '1.0'></a>\n",
    "<h2 style = \"font-size:35px; font-family:Garamond ; font-weight : normal; background-color: #007580; color :#fed049   ; text-align: center; border-radius: 5px 5px; padding: 5px\"> 1. Prepare model artifacts </h2>\n",
    "\n",
    "Let’s deploy a HuggingFace BERT model as a production variant which is fine-tuned with two epochs and consider a shadow variant which is fine-tuned with three epochs."
   ]
  },
  {
   "cell_type": "code",
   "execution_count": 2,
   "id": "3987e8ec",
   "metadata": {},
   "outputs": [],
   "source": [
    "# Fine-tuned with 2 epochs\n",
    "model_v1_path = \"s3://sagemaker-xx-xxxx-x-xxxxxxxxxxxx/sagemaker/social-media/models/model_v1/model_v1.tar.gz\"\n",
    "# Fine-tuned with 3 epochs\n",
    "model_v2_path = \"s3://sagemaker-xx-xxxx-x-xxxxxxxxxxxx/sagemaker/social-media/models/model_v2/model_v2.tar.gz\""
   ]
  },
  {
   "cell_type": "markdown",
   "id": "acbeb6d9",
   "metadata": {},
   "source": [
    "<a id = '2.0'></a>\n",
    "<h2 style = \"font-size:35px; font-family:Garamond ; font-weight : normal; background-color: #007580; color :#fed049   ; text-align: center; border-radius: 5px 5px; padding: 5px\"> 2. Deploy tweet-classifier-v1 model (as production variant) </h2>"
   ]
  },
  {
   "cell_type": "code",
   "execution_count": 3,
   "id": "ed673efb",
   "metadata": {},
   "outputs": [],
   "source": [
    "import os\n",
    "import sagemaker\n",
    "import boto3\n",
    "\n",
    "sagemaker_session = sagemaker.Session()\n",
    "bucket = sagemaker_session.default_bucket()\n",
    "region = sagemaker_session.boto_session.region_name\n",
    "sm_boto3 = boto3.client(\"sagemaker\")"
   ]
  },
  {
   "cell_type": "code",
   "execution_count": 4,
   "id": "372fd2de",
   "metadata": {},
   "outputs": [],
   "source": [
    "from time import gmtime, strftime\n",
    "\n",
    "def name_with_timestamp(name):\n",
    "    return '{}-{}'.format(name, strftime('%Y-%m-%d-%H-%M-%S', gmtime()))"
   ]
  },
  {
   "cell_type": "code",
   "execution_count": null,
   "id": "eb960dcf",
   "metadata": {},
   "outputs": [],
   "source": [
    "tweet_cls_v1_model_name    = name_with_timestamp('tweet-classifier-v1-model')\n",
    "tweet_cls_v1_epc_name      = name_with_timestamp('tweet-classifier-v1-epc')\n",
    "tweet_cls_endpoint_name    = name_with_timestamp('tweet-classifier-ep')\n",
    "\n",
    "production_variant_name = \"production\"\n",
    "\n",
    "# Create a tweet-classifier-v1 model as production variant\n",
    "from sagemaker import get_execution_role\n",
    "\n",
    "image_uri = sagemaker.image_uris.retrieve(\n",
    "    framework=\"pytorch\",\n",
    "    region=region,\n",
    "    py_version=\"py38\",\n",
    "    image_scope=\"inference\",\n",
    "    version=\"1.9\",\n",
    "    instance_type=\"ml.m5.xlarge\",\n",
    ")\n",
    "\n",
    "primary_container = {'Image': image_uri, 'ModelDataUrl': model_v1_path,\n",
    "    'Environment': {\n",
    "        'SAGEMAKER_PROGRAM': 'train_deploy.py',\n",
    "        'SAGEMAKER_REGION': region,\n",
    "        'SAGEMAKER_SUBMIT_DIRECTORY': model_v1_path\n",
    "    }\n",
    "}\n",
    "\n",
    "create_model_response = sm_boto3.create_model(ModelName = tweet_cls_v1_model_name, ExecutionRoleArn = get_execution_role(), PrimaryContainer = primary_container)\n",
    "print('ModelArn= {}'.format(create_model_response['ModelArn']))\n",
    "\n",
    "# Create an endpoint config\n",
    "endpoint_config_response = sm_boto3.create_endpoint_config(EndpointConfigName = tweet_cls_v1_epc_name,\n",
    "    ProductionVariants=[\n",
    "        {\n",
    "        'InstanceType':'ml.m5.xlarge',\n",
    "        'InitialInstanceCount':1,\n",
    "        'ModelName':tweet_cls_v1_model_name,\n",
    "        'VariantName':production_variant_name,\n",
    "        'InitialVariantWeight':1\n",
    "        }\n",
    "    ])\n",
    "\n",
    "print('Endpoint configuration arn:  {}'.format(endpoint_config_response['EndpointConfigArn']))\n",
    "\n",
    "# Create an endpoint\n",
    "endpoint_params = {'EndpointName': tweet_cls_endpoint_name, 'EndpointConfigName': tweet_cls_v1_epc_name}\n",
    "\n",
    "endpoint_response = sm_boto3.create_endpoint(EndpointName=tweet_cls_endpoint_name, EndpointConfigName=tweet_cls_v1_epc_name)\n",
    "print('EndpointArn = {}'.format(endpoint_response['EndpointArn']))"
   ]
  },
  {
   "cell_type": "markdown",
   "id": "20db47bc",
   "metadata": {},
   "source": [
    "<a id = '3.0'></a>\n",
    "<h2 style = \"font-size:35px; font-family:Garamond ; font-weight : normal; background-color: #007580; color :#fed049   ; text-align: center; border-radius: 5px 5px; padding: 5px\"> 3. Get predictions from tweet-classifier-v1 model </h2>"
   ]
  },
  {
   "cell_type": "code",
   "execution_count": 6,
   "id": "b23f6067",
   "metadata": {},
   "outputs": [
    {
     "name": "stdout",
     "output_type": "stream",
     "text": [
      "{'prob_score': '0.7350', 'label': 'Not a disaster'}\n"
     ]
    }
   ],
   "source": [
    "import boto3\n",
    "import json\n",
    "\n",
    "sm = boto3.client('sagemaker-runtime')\n",
    "\n",
    "payload = [\"Just witnessed a beautiful sunset on my evening walk. Sometimes it's the little things that can make our day. #sunset #beauty\"]\n",
    "payload = json.dumps(payload)\n",
    "response = sm.invoke_endpoint(EndpointName=tweet_cls_endpoint_name, Body=payload, ContentType='application/json')\n",
    "\n",
    "result = json.loads(response['Body'].read())\n",
    "print(result)"
   ]
  },
  {
   "cell_type": "markdown",
   "id": "d0a0f044",
   "metadata": {},
   "source": [
    "<a id = '4.0'></a>\n",
    "<h2 style = \"font-size:35px; font-family:Garamond ; font-weight : normal; background-color: #007580; color :#fed049   ; text-align: center; border-radius: 5px 5px; padding: 5px\"> 4. Deploy tweet-classifier-v2 model (as shadow variant) </h2>\n",
    "\n",
    "Let’s deploy a tweet-classifier-v2 model as a shadow variant which is fine-tuned with three epochs.\n",
    "\n",
    "We capture the 100% request and response of both production and shadow variants using [Data Capture](https://docs.aws.amazon.com/sagemaker/latest/dg/model-monitor-data-capture.html) options by providing S3 URI. As per settings below, SageMaker routes the 50% (InitialVariantWeight=0.5) copy of the inference requests received by the production variant to the shadow variant."
   ]
  },
  {
   "cell_type": "code",
   "execution_count": null,
   "id": "04852ce5",
   "metadata": {},
   "outputs": [],
   "source": [
    "tweet_cls_v2_model_name      = name_with_timestamp('tweet-classifier-v2-model')\n",
    "tweet_cls_v2_shadow_epc_name = name_with_timestamp('tweet-classifier-v2-shadow-epc')\n",
    "shadow_variant_name = \"shadow\"\n",
    "\n",
    "# Create a tweet-classifier-v2 model as shadow variant\n",
    "primary_container = {'Image': image_uri, 'ModelDataUrl': model_v2_path,\n",
    "    'Environment': {\n",
    "        'SAGEMAKER_PROGRAM': 'train_deploy.py',\n",
    "        'SAGEMAKER_REGION': region,\n",
    "        'SAGEMAKER_SUBMIT_DIRECTORY': model_v2_path\n",
    "    }\n",
    "}\n",
    "\n",
    "create_model_response = sm_boto3.create_model(ModelName = tweet_cls_v2_model_name, ExecutionRoleArn = get_execution_role(), PrimaryContainer = primary_container)\n",
    "print('ModelArn= {}'.format(create_model_response['ModelArn']))\n",
    "\n",
    "# Create an endpoint config with production and shadow variants\n",
    "data_capture_prefix = \"sagemaker/social-media/models\"\n",
    "\n",
    "endpoint_config_response = sm_boto3.create_endpoint_config(\n",
    "    EndpointConfigName = tweet_cls_v2_shadow_epc_name,\n",
    "    ProductionVariants=[\n",
    "        {\n",
    "        'InstanceType':'ml.m5.xlarge',\n",
    "        'InitialInstanceCount':1,\n",
    "        'ModelName':tweet_cls_v1_model_name,\n",
    "        'VariantName':production_variant_name,\n",
    "        'InitialVariantWeight':1\n",
    "        }\n",
    "    ],\n",
    "    # Type: Array of ShadowProductionVariants \n",
    "    ShadowProductionVariants = [\n",
    "        {\n",
    "         \"ModelName\": tweet_cls_v2_model_name,\n",
    "         'VariantName':shadow_variant_name,\n",
    "         \"InitialInstanceCount\": 1,\n",
    "         \"InitialVariantWeight\": 0.5,\n",
    "         \"InstanceType\": \"ml.m5.xlarge\"\n",
    "        }\n",
    "   ],\n",
    "   DataCaptureConfig={\n",
    "        'EnableCapture': True,\n",
    "        'InitialSamplingPercentage': 100,\n",
    "        'DestinationS3Uri': \"s3://{}/{}\".format(bucket, data_capture_prefix),\n",
    "        'CaptureOptions': [{'CaptureMode': 'Input'}, {'CaptureMode': 'Output'}],\n",
    "        'CaptureContentTypeHeader': {'JsonContentTypes': ['application/json']}\n",
    "    })\n",
    "\n",
    "print('Endpoint configuration arn:  {}'.format(endpoint_config_response['EndpointConfigArn']))\n",
    "\n",
    "# Update an endpoint with shadow endpoint config\n",
    "endpoint_params = {'EndpointName': tweet_cls_endpoint_name, 'EndpointConfigName': tweet_cls_v2_shadow_epc_name}\n",
    "\n",
    "endpoint_response = sm_boto3.update_endpoint(EndpointName=tweet_cls_endpoint_name, EndpointConfigName=tweet_cls_v2_shadow_epc_name)\n",
    "print('EndpointArn = {}'.format(endpoint_response['EndpointArn']))"
   ]
  },
  {
   "cell_type": "markdown",
   "id": "4077e0f3",
   "metadata": {},
   "source": [
    "Verify the production and shadow variants settings in AWS console.\n",
    "\n",
    "<img src = \"./img/prod_shadow_variants.jpg\" >"
   ]
  },
  {
   "cell_type": "markdown",
   "id": "a8247706",
   "metadata": {},
   "source": [
    "<a id = '5.0'></a>\n",
    "<h2 style = \"font-size:35px; font-family:Garamond ; font-weight : normal; background-color: #007580; color :#fed049   ; text-align: center; border-radius: 5px 5px; padding: 5px\"> 5. Get predictions from tweet-classifier-v2 model </h2>"
   ]
  },
  {
   "cell_type": "code",
   "execution_count": 8,
   "id": "d4813e4d",
   "metadata": {},
   "outputs": [
    {
     "name": "stdout",
     "output_type": "stream",
     "text": [
      "{'prob_score': '0.8252', 'label': 'Not a disaster'}\n",
      "{'prob_score': '0.8272', 'label': 'Not a disaster'}\n",
      "{'prob_score': '0.7350', 'label': 'Not a disaster'}\n",
      "{'prob_score': '0.8160', 'label': 'Not a disaster'}\n",
      "{'prob_score': '0.8111', 'label': 'Not a disaster'}\n",
      "{'prob_score': '0.8492', 'label': 'Real disaster'}\n",
      "{'prob_score': '0.8494', 'label': 'Real disaster'}\n",
      "{'prob_score': '0.8465', 'label': 'Real disaster'}\n",
      "{'prob_score': '0.8507', 'label': 'Real disaster'}\n",
      "{'prob_score': '0.8502', 'label': 'Real disaster'}\n"
     ]
    }
   ],
   "source": [
    "input = [\n",
    "    \"Exciting news! Our team has just launched a new product that is going to change the game in the industry. Stay tuned for more details. #innovation #success\",\n",
    "    \"Happy to announce that we've hit a new milestone - 1 million followers on our social media page! Thank you all for your support. #milestone #grateful\",\n",
    "    \"Just witnessed a beautiful sunset on my evening walk. Sometimes it's the little things that can make our day. #sunset #beauty\",\n",
    "    \"The new Star Wars movie is finally out and it's amazing! So much action and plot twists, a must see for any fan. #StarWars #MovieNight\",\n",
    "    \"Just finished a great book, definitely recommend it to anyone who loves a good thriller. Can't wait to start the next one. #bookrecommendation #reading\",\n",
    "    \"Devastating wildfires continue to ravage the western United States, with thousands of acres burned and entire communities forced to evacuate. #wildfire #disaster\",\n",
    "    \"Hurricane Maria makes landfall in Puerto Rico, causing widespread damage and power outages. Our thoughts are with those affected. #hurricane #disaster\",\n",
    "    \"Breaking news: a major earthquake strikes the central coast of Chile, measuring 8.3 on the Richter scale. #earthquake #disaster\",\n",
    "    \"Flash floods hit the midwest, leaving several towns underwater and causing significant damage to infrastructure. #flood #disaster\",\n",
    "    \"Tropical Storm Eta causes widespread flooding and landslides in Central America, leaving many dead and missing. #tropicalstorm #disaster\"\n",
    "]\n",
    "\n",
    "sm = boto3.client('sagemaker-runtime')\n",
    "\n",
    "for i in range(len(input)):\n",
    "    payload = json.dumps(input[i])\n",
    "    response = sm.invoke_endpoint(EndpointName=tweet_cls_endpoint_name, Body=payload, ContentType='application/json')\n",
    "    \n",
    "    result = json.loads(response['Body'].read())\n",
    "    print(result)"
   ]
  },
  {
   "cell_type": "markdown",
   "id": "6313a3b3",
   "metadata": {},
   "source": [
    "<a id = '6.0'></a>\n",
    "<h2 style = \"font-size:35px; font-family:Garamond ; font-weight : normal; background-color: #007580; color :#fed049   ; text-align: center; border-radius: 5px 5px; padding: 5px\"> 6. View production variant captured data from S3 </h2>\n",
    "\n",
    "Note: It takes a few minutes for the capture data to appear in S3"
   ]
  },
  {
   "cell_type": "code",
   "execution_count": null,
   "id": "07e1637a",
   "metadata": {},
   "outputs": [],
   "source": [
    "# View Production variant captured data\n",
    "import boto3\n",
    "\n",
    "s3_client = boto3.Session().client('s3')\n",
    "\n",
    "current_endpoint_capture_prefix = \"{}/{}/{}\".format(data_capture_prefix, tweet_cls_endpoint_name, production_variant_name)\n",
    "result = s3_client.list_objects(Bucket=bucket, Prefix=current_endpoint_capture_prefix)\n",
    "prod_var_capture_files = [capture_file.get(\"Key\") for capture_file in result.get(\"Contents\")]\n",
    "print(\"Found Production Variant Capture Files:\")\n",
    "print(\"\\n \".join(prod_var_capture_files))"
   ]
  },
  {
   "cell_type": "code",
   "execution_count": 16,
   "id": "01bc235f",
   "metadata": {},
   "outputs": [
    {
     "name": "stdout",
     "output_type": "stream",
     "text": [
      "{\"captureData\":{\"endpointInput\":{\"observedContentType\":\"application/json\",\"mode\":\"INPUT\",\"data\":\"\\\"Exciting news! Our team has just launched a new product that is going to change the game in the industry. Stay tuned for more details. #innovation #success\\\"\",\"encoding\":\"JSON\"},\"endpointOutput\":{\"observedContentType\":\"application/json\",\"mode\":\"OUTPUT\",\"data\":\"{\\\"prob_score\\\": \\\"0.8252\\\", \\\"label\\\": \\\"Not a disaster\\\"}\",\"encoding\":\"JSON\"}},\"eventMetadata\":{\"eventId\":\"9d66e263-19cd-40e9-ad08-40cb5d1026ef\",\"inferenceTime\":\"2023-01-29T13:27:55Z\"},\"eventVersion\":\"0\"}\n",
      "{\"captureData\":{\"endpointInput\":{\"observedContentType\":\"application/json\",\"mode\":\"INPUT\",\"data\":\"\\\"Happy to announce that we've hit a new milestone - 1 million followers on our social media page! Thank you all for your support. #milestone #grateful\\\"\",\"encoding\":\"JSON\"},\"endpointOutput\":{\"observedContentType\":\"application/json\",\"mode\":\"OUTPUT\",\"data\":\"{\\\"prob_score\\\": \\\"0.8272\\\", \\\"label\\\": \\\"Not a disaster\\\"}\",\"encoding\":\"JSON\"}},\"eventMetadata\":{\"eventId\":\"95512f59-6bf9-4e0f-a337-968429d92bd3\",\"inferenceTime\":\"2023-01-29T13:27:56Z\"},\"eventVersion\":\"0\"}\n",
      "{\"captureData\":{\"endpointInput\":{\"observedContentType\":\"application/json\",\"mode\":\"INPUT\",\"data\":\"\\\"Just witnessed a beautiful sunset on my evening walk. Sometimes it's the little things that can make our day. #sunset #beauty\\\"\",\"encoding\":\"JSON\"},\"endpointOutput\":{\"observedContentType\":\"application/json\",\"mode\":\"OUTPUT\",\"data\":\"{\\\"prob_score\\\": \\\"0.7350\\\", \\\"label\\\": \\\"Not a disaster\\\"}\",\"encoding\":\"JSON\"}},\"eventMetadata\":{\"eventId\":\"51b3f028-72ab-46d8-9de9-c39e5c42f7be\",\"inferenceTime\":\"2023-01-29T13:27:56Z\"},\"eventVersion\":\"0\"}\n",
      "{\"captureData\":{\"endpointInput\":{\"observedContentType\":\"application/json\",\"mode\":\"INPUT\",\"data\":\"\\\"The new Star Wars movie is finally out and it's amazing! So much action and plot twists, a must see for any fan. #StarWars #MovieNight\\\"\",\"encoding\":\"JSON\"},\"endpointOutput\":{\"observedContentType\":\"application/json\",\"mode\":\"OUTPUT\",\"dat\n"
     ]
    }
   ],
   "source": [
    "def get_obj_body(obj_key):\n",
    "    return s3_client.get_object(Bucket=bucket, Key=obj_key).get('Body').read().decode(\"utf-8\")\n",
    "\n",
    "prod_var_capture_file = get_obj_body(prod_var_capture_files[-1])\n",
    "print(prod_var_capture_file[:2000])"
   ]
  },
  {
   "cell_type": "code",
   "execution_count": 17,
   "id": "c6e41e59",
   "metadata": {},
   "outputs": [
    {
     "name": "stdout",
     "output_type": "stream",
     "text": [
      "{\n",
      "  \"captureData\": {\n",
      "    \"endpointInput\": {\n",
      "      \"observedContentType\": \"application/json\",\n",
      "      \"mode\": \"INPUT\",\n",
      "      \"data\": \"\\\"Exciting news! Our team has just launched a new product that is going to change the game in the industry. Stay tuned for more details. #innovation #success\\\"\",\n",
      "      \"encoding\": \"JSON\"\n",
      "    },\n",
      "    \"endpointOutput\": {\n",
      "      \"observedContentType\": \"application/json\",\n",
      "      \"mode\": \"OUTPUT\",\n",
      "      \"data\": \"{\\\"prob_score\\\": \\\"0.8252\\\", \\\"label\\\": \\\"Not a disaster\\\"}\",\n",
      "      \"encoding\": \"JSON\"\n",
      "    }\n",
      "  },\n",
      "  \"eventMetadata\": {\n",
      "    \"eventId\": \"9d66e263-19cd-40e9-ad08-40cb5d1026ef\",\n",
      "    \"inferenceTime\": \"2023-01-29T13:27:55Z\"\n",
      "  },\n",
      "  \"eventVersion\": \"0\"\n",
      "}\n"
     ]
    }
   ],
   "source": [
    "# Print prouduction variant captured request and response\n",
    "print(json.dumps(json.loads(prod_var_capture_file.split('\\n')[0]), indent=2))"
   ]
  },
  {
   "cell_type": "markdown",
   "id": "8d55d829",
   "metadata": {},
   "source": [
    "Notice that SageMaker generates an `eventId` for each invocation which helps in analysis.\n",
    "\n",
    "Let’s convert the production variant captured data into pandas dataframe."
   ]
  },
  {
   "cell_type": "code",
   "execution_count": 40,
   "id": "c8d2e86d",
   "metadata": {},
   "outputs": [
    {
     "data": {
      "text/html": [
       "<div>\n",
       "<style scoped>\n",
       "    .dataframe tbody tr th:only-of-type {\n",
       "        vertical-align: middle;\n",
       "    }\n",
       "\n",
       "    .dataframe tbody tr th {\n",
       "        vertical-align: top;\n",
       "    }\n",
       "\n",
       "    .dataframe thead th {\n",
       "        text-align: right;\n",
       "    }\n",
       "</style>\n",
       "<table border=\"1\" class=\"dataframe\">\n",
       "  <thead>\n",
       "    <tr style=\"text-align: right;\">\n",
       "      <th></th>\n",
       "      <th>input</th>\n",
       "      <th>prod_output</th>\n",
       "      <th>prod_prob_score</th>\n",
       "      <th>eventId</th>\n",
       "    </tr>\n",
       "  </thead>\n",
       "  <tbody>\n",
       "    <tr>\n",
       "      <th>0</th>\n",
       "      <td>\"Exciting news! Our team has just launched a n...</td>\n",
       "      <td>Not a disaster</td>\n",
       "      <td>0.8252</td>\n",
       "      <td>9d66e263-19cd-40e9-ad08-40cb5d1026ef</td>\n",
       "    </tr>\n",
       "    <tr>\n",
       "      <th>1</th>\n",
       "      <td>\"Happy to announce that we've hit a new milest...</td>\n",
       "      <td>Not a disaster</td>\n",
       "      <td>0.8272</td>\n",
       "      <td>95512f59-6bf9-4e0f-a337-968429d92bd3</td>\n",
       "    </tr>\n",
       "    <tr>\n",
       "      <th>2</th>\n",
       "      <td>\"Just witnessed a beautiful sunset on my eveni...</td>\n",
       "      <td>Not a disaster</td>\n",
       "      <td>0.7350</td>\n",
       "      <td>51b3f028-72ab-46d8-9de9-c39e5c42f7be</td>\n",
       "    </tr>\n",
       "    <tr>\n",
       "      <th>3</th>\n",
       "      <td>\"The new Star Wars movie is finally out and it...</td>\n",
       "      <td>Not a disaster</td>\n",
       "      <td>0.8160</td>\n",
       "      <td>3f6af014-49c7-44bb-8f4a-c3deb31fba89</td>\n",
       "    </tr>\n",
       "    <tr>\n",
       "      <th>4</th>\n",
       "      <td>\"Just finished a great book, definitely recomm...</td>\n",
       "      <td>Not a disaster</td>\n",
       "      <td>0.8111</td>\n",
       "      <td>a698d805-8938-43cd-9545-b8b02bd018f5</td>\n",
       "    </tr>\n",
       "    <tr>\n",
       "      <th>5</th>\n",
       "      <td>\"Devastating wildfires continue to ravage the ...</td>\n",
       "      <td>Real disaster</td>\n",
       "      <td>0.8492</td>\n",
       "      <td>1e19292b-824f-424a-b6ea-72ead2d9a3bf</td>\n",
       "    </tr>\n",
       "    <tr>\n",
       "      <th>6</th>\n",
       "      <td>\"Hurricane Maria makes landfall in Puerto Rico...</td>\n",
       "      <td>Real disaster</td>\n",
       "      <td>0.8494</td>\n",
       "      <td>26ceca96-ea62-4758-b459-bcbabda97767</td>\n",
       "    </tr>\n",
       "    <tr>\n",
       "      <th>7</th>\n",
       "      <td>\"Breaking news: a major earthquake strikes the...</td>\n",
       "      <td>Real disaster</td>\n",
       "      <td>0.8465</td>\n",
       "      <td>212613f7-d2f8-4619-8339-febd4535f1ca</td>\n",
       "    </tr>\n",
       "    <tr>\n",
       "      <th>8</th>\n",
       "      <td>\"Flash floods hit the midwest, leaving several...</td>\n",
       "      <td>Real disaster</td>\n",
       "      <td>0.8507</td>\n",
       "      <td>2e5c0d88-236c-4648-9c45-0e4539b893fa</td>\n",
       "    </tr>\n",
       "    <tr>\n",
       "      <th>9</th>\n",
       "      <td>\"Tropical Storm Eta causes widespread flooding...</td>\n",
       "      <td>Real disaster</td>\n",
       "      <td>0.8502</td>\n",
       "      <td>605c346f-efda-4598-884b-9f16bf97f2b4</td>\n",
       "    </tr>\n",
       "  </tbody>\n",
       "</table>\n",
       "</div>"
      ],
      "text/plain": [
       "                                               input     prod_output  \\\n",
       "0  \"Exciting news! Our team has just launched a n...  Not a disaster   \n",
       "1  \"Happy to announce that we've hit a new milest...  Not a disaster   \n",
       "2  \"Just witnessed a beautiful sunset on my eveni...  Not a disaster   \n",
       "3  \"The new Star Wars movie is finally out and it...  Not a disaster   \n",
       "4  \"Just finished a great book, definitely recomm...  Not a disaster   \n",
       "5  \"Devastating wildfires continue to ravage the ...   Real disaster   \n",
       "6  \"Hurricane Maria makes landfall in Puerto Rico...   Real disaster   \n",
       "7  \"Breaking news: a major earthquake strikes the...   Real disaster   \n",
       "8  \"Flash floods hit the midwest, leaving several...   Real disaster   \n",
       "9  \"Tropical Storm Eta causes widespread flooding...   Real disaster   \n",
       "\n",
       "   prod_prob_score                               eventId  \n",
       "0           0.8252  9d66e263-19cd-40e9-ad08-40cb5d1026ef  \n",
       "1           0.8272  95512f59-6bf9-4e0f-a337-968429d92bd3  \n",
       "2           0.7350  51b3f028-72ab-46d8-9de9-c39e5c42f7be  \n",
       "3           0.8160  3f6af014-49c7-44bb-8f4a-c3deb31fba89  \n",
       "4           0.8111  a698d805-8938-43cd-9545-b8b02bd018f5  \n",
       "5           0.8492  1e19292b-824f-424a-b6ea-72ead2d9a3bf  \n",
       "6           0.8494  26ceca96-ea62-4758-b459-bcbabda97767  \n",
       "7           0.8465  212613f7-d2f8-4619-8339-febd4535f1ca  \n",
       "8           0.8507  2e5c0d88-236c-4648-9c45-0e4539b893fa  \n",
       "9           0.8502  605c346f-efda-4598-884b-9f16bf97f2b4  "
      ]
     },
     "execution_count": 40,
     "metadata": {},
     "output_type": "execute_result"
    }
   ],
   "source": [
    "# Convert the production variant captured data into pandas dataframe\n",
    "prod_input_list = []\n",
    "for i in range(len(prod_var_capture_file.split('\\n'))):\n",
    "    if not len(prod_var_capture_file.split('\\n')[i]) == 0:\n",
    "        prod_input = {}\n",
    "        prod_input[\"input\"] = json.loads(prod_var_capture_file.split('\\n')[i])[\"captureData\"][\"endpointInput\"][\"data\"]\n",
    "        data = json.loads(json.loads(prod_var_capture_file.split('\\n')[i])[\"captureData\"][\"endpointOutput\"][\"data\"])\n",
    "        prod_input[\"prod_output\"] = data[\"label\"]\n",
    "        prod_input[\"prod_prob_score\"] = float(data[\"prob_score\"])\n",
    "        prod_input[\"eventId\"] = json.loads(prod_var_capture_file.split('\\n')[i])[\"eventMetadata\"][\"eventId\"]\n",
    "        prod_input_list.append(prod_input)\n",
    "\n",
    "from pandas import json_normalize\n",
    "prod_var_df = json_normalize(prod_input_list)\n",
    "prod_var_df"
   ]
  },
  {
   "cell_type": "markdown",
   "id": "060c8b0f",
   "metadata": {},
   "source": [
    "<a id = '7.0'></a>\n",
    "<h2 style = \"font-size:35px; font-family:Garamond ; font-weight : normal; background-color: #007580; color :#fed049   ; text-align: center; border-radius: 5px 5px; padding: 5px\"> 7. View shadow variant captured data from S3 </h2>"
   ]
  },
  {
   "cell_type": "code",
   "execution_count": 25,
   "id": "70497930",
   "metadata": {},
   "outputs": [
    {
     "name": "stdout",
     "output_type": "stream",
     "text": [
      "{\"captureData\":{\"endpointInput\":{\"observedContentType\":\"application/json\",\"mode\":\"INPUT\",\"data\":\"\\\"Happy to announce that we've hit a new milestone - 1 million followers on our social media page! Thank you all for your support. #milestone #grateful\\\"\",\"encoding\":\"JSON\"},\"endpointOutput\":{\"observedContentType\":\"application/json\",\"mode\":\"OUTPUT\",\"data\":\"{\\\"prob_score\\\": \\\"0.8586\\\", \\\"label\\\": \\\"Not a disaster\\\"}\",\"encoding\":\"JSON\"}},\"eventMetadata\":{\"eventId\":\"95512f59-6bf9-4e0f-a337-968429d92bd3\",\"invocationSource\":\"ShadowExperiment\",\"inferenceTime\":\"2023-01-29T13:27:56Z\"},\"eventVersion\":\"0\"}\n",
      "{\"captureData\":{\"endpointInput\":{\"observedContentType\":\"application/json\",\"mode\":\"INPUT\",\"data\":\"\\\"Just witnessed a beautiful sunset on my evening walk. Sometimes it's the little things that can make our day. #sunset #beauty\\\"\",\"encoding\":\"JSON\"},\"endpointOutput\":{\"observedContentType\":\"application/json\",\"mode\":\"OUTPUT\",\"data\":\"{\\\"prob_score\\\": \\\"0.8185\\\", \\\"label\\\": \\\"Not a disaster\\\"}\",\"encoding\":\"JSON\"}},\"eventMetadata\":{\"eventId\":\"51b3f028-72ab-46d8-9de9-c39e5c42f7be\",\"invocationSource\":\"ShadowExperiment\",\"inferenceTime\":\"2023-01-29T13:27:56Z\"},\"eventVersion\":\"0\"}\n",
      "{\"captureData\":{\"endpointInput\":{\"observedContentType\":\"application/json\",\"mode\":\"INPUT\",\"data\":\"\\\"Just finished a great book, definitely recommend it to anyone who loves a good thriller. Can't wait to start the next one. #bookrecommendation #reading\\\"\",\"encoding\":\"JSON\"},\"endpointOutput\":{\"observedContentType\":\"application/json\",\"mode\":\"OUTPUT\",\"data\":\"{\\\"prob_score\\\": \\\"0.8570\\\", \\\"label\\\": \\\"Not a disaster\\\"}\",\"encoding\":\"JSON\"}},\"eventMetadata\":{\"eventId\":\"a698d805-8938-43cd-9545-b8b02bd018f5\",\"invocationSource\":\"ShadowExperiment\",\"inferenceTime\":\"2023-01-29T13:27:57Z\"},\"eventVersion\":\"0\"}\n",
      "{\"captureData\":{\"endpointInput\":{\"observedContentType\":\"application/json\",\"mode\":\"INPUT\",\"data\":\"\\\"Flash floods hit the midwest, leaving several towns underwater and causing significant damage to infrastructure. #flood #disas\n"
     ]
    }
   ],
   "source": [
    "# View Shadow variant captured data\n",
    "current_endpoint_capture_prefix = \"{}/{}/{}\".format(data_capture_prefix, tweet_cls_endpoint_name, shadow_variant_name)\n",
    "result = s3_client.list_objects(Bucket=bucket, Prefix=current_endpoint_capture_prefix)\n",
    "shadow_var_capture_files = [capture_file.get(\"Key\") for capture_file in result.get(\"Contents\")]\n",
    "print(\"Found Production Variant Capture Files:\")\n",
    "print(\"\\n \".join(shadow_var_capture_files))\n",
    "\n",
    "def get_obj_body(obj_key):\n",
    "    return s3_client.get_object(Bucket=bucket, Key=obj_key).get('Body').read().decode(\"utf-8\")\n",
    "\n",
    "shadow_var_capture_file = get_obj_body(shadow_var_capture_files[-1])\n",
    "print(shadow_var_capture_file[:2000])"
   ]
  },
  {
   "cell_type": "code",
   "execution_count": 26,
   "id": "4ef89565",
   "metadata": {},
   "outputs": [
    {
     "name": "stdout",
     "output_type": "stream",
     "text": [
      "{\n",
      "  \"captureData\": {\n",
      "    \"endpointInput\": {\n",
      "      \"observedContentType\": \"application/json\",\n",
      "      \"mode\": \"INPUT\",\n",
      "      \"data\": \"\\\"Happy to announce that we've hit a new milestone - 1 million followers on our social media page! Thank you all for your support. #milestone #grateful\\\"\",\n",
      "      \"encoding\": \"JSON\"\n",
      "    },\n",
      "    \"endpointOutput\": {\n",
      "      \"observedContentType\": \"application/json\",\n",
      "      \"mode\": \"OUTPUT\",\n",
      "      \"data\": \"{\\\"prob_score\\\": \\\"0.8586\\\", \\\"label\\\": \\\"Not a disaster\\\"}\",\n",
      "      \"encoding\": \"JSON\"\n",
      "    }\n",
      "  },\n",
      "  \"eventMetadata\": {\n",
      "    \"eventId\": \"95512f59-6bf9-4e0f-a337-968429d92bd3\",\n",
      "    \"invocationSource\": \"ShadowExperiment\",\n",
      "    \"inferenceTime\": \"2023-01-29T13:27:56Z\"\n",
      "  },\n",
      "  \"eventVersion\": \"0\"\n",
      "}\n"
     ]
    }
   ],
   "source": [
    "# Print shadow variant captured request and response\n",
    "print(json.dumps(json.loads(shadow_var_capture_file.split('\\n')[0]), indent=2))"
   ]
  },
  {
   "cell_type": "markdown",
   "id": "9773500b",
   "metadata": {},
   "source": [
    "Notice that SageMaker generates an `eventId` and capture `invocationSource` as `ShadowExperiment` which helps in identifying the captured data from shadow variant and production variant."
   ]
  },
  {
   "cell_type": "code",
   "execution_count": null,
   "id": "bc94cd76",
   "metadata": {},
   "outputs": [],
   "source": [
    "# Convert the shadow variant captured data into pandas dataframe\n",
    "shadow_input_list = []\n",
    "for i in range(len(shadow_var_capture_file.split('\\n'))):\n",
    "    if not len(shadow_var_capture_file.split('\\n')[i]) == 0:\n",
    "        shadow_input = {}\n",
    "        data = json.loads(json.loads(shadow_var_capture_file.split('\\n')[i])[\"captureData\"][\"endpointOutput\"][\"data\"])\n",
    "        shadow_input[\"shadow_output\"] = data[\"label\"]\n",
    "        shadow_input[\"shadow_prob_score\"] = float(data[\"prob_score\"])\n",
    "        shadow_input[\"eventId\"] = json.loads(shadow_var_capture_file.split('\\n')[i])[\"eventMetadata\"][\"eventId\"]\n",
    "        shadow_input_list.append(shadow_input)\n",
    "\n",
    "shadow_var_df = json_normalize(shadow_input_list)\n",
    "shadow_var_df"
   ]
  },
  {
   "cell_type": "markdown",
   "id": "001e5b85",
   "metadata": {},
   "source": [
    "<a id = '8.0'></a>\n",
    "<h2 style = \"font-size:35px; font-family:Garamond ; font-weight : normal; background-color: #007580; color :#fed049   ; text-align: center; border-radius: 5px 5px; padding: 5px\"> 8. Compare the model evaluation metrics </h2>"
   ]
  },
  {
   "cell_type": "code",
   "execution_count": 43,
   "id": "c7cfe5fd",
   "metadata": {},
   "outputs": [
    {
     "data": {
      "text/html": [
       "<div>\n",
       "<style scoped>\n",
       "    .dataframe tbody tr th:only-of-type {\n",
       "        vertical-align: middle;\n",
       "    }\n",
       "\n",
       "    .dataframe tbody tr th {\n",
       "        vertical-align: top;\n",
       "    }\n",
       "\n",
       "    .dataframe thead th {\n",
       "        text-align: right;\n",
       "    }\n",
       "</style>\n",
       "<table border=\"1\" class=\"dataframe\">\n",
       "  <thead>\n",
       "    <tr style=\"text-align: right;\">\n",
       "      <th></th>\n",
       "      <th>input</th>\n",
       "      <th>prod_output</th>\n",
       "      <th>prod_prob_score</th>\n",
       "      <th>eventId</th>\n",
       "      <th>shadow_output</th>\n",
       "      <th>shadow_prob_score</th>\n",
       "    </tr>\n",
       "  </thead>\n",
       "  <tbody>\n",
       "    <tr>\n",
       "      <th>0</th>\n",
       "      <td>\"Happy to announce that we've hit a new milest...</td>\n",
       "      <td>Not a disaster</td>\n",
       "      <td>0.8272</td>\n",
       "      <td>95512f59-6bf9-4e0f-a337-968429d92bd3</td>\n",
       "      <td>Not a disaster</td>\n",
       "      <td>0.8586</td>\n",
       "    </tr>\n",
       "    <tr>\n",
       "      <th>1</th>\n",
       "      <td>\"Just witnessed a beautiful sunset on my eveni...</td>\n",
       "      <td>Not a disaster</td>\n",
       "      <td>0.7350</td>\n",
       "      <td>51b3f028-72ab-46d8-9de9-c39e5c42f7be</td>\n",
       "      <td>Not a disaster</td>\n",
       "      <td>0.8185</td>\n",
       "    </tr>\n",
       "    <tr>\n",
       "      <th>2</th>\n",
       "      <td>\"Just finished a great book, definitely recomm...</td>\n",
       "      <td>Not a disaster</td>\n",
       "      <td>0.8111</td>\n",
       "      <td>a698d805-8938-43cd-9545-b8b02bd018f5</td>\n",
       "      <td>Not a disaster</td>\n",
       "      <td>0.8570</td>\n",
       "    </tr>\n",
       "    <tr>\n",
       "      <th>3</th>\n",
       "      <td>\"Flash floods hit the midwest, leaving several...</td>\n",
       "      <td>Real disaster</td>\n",
       "      <td>0.8507</td>\n",
       "      <td>2e5c0d88-236c-4648-9c45-0e4539b893fa</td>\n",
       "      <td>Real disaster</td>\n",
       "      <td>0.8767</td>\n",
       "    </tr>\n",
       "    <tr>\n",
       "      <th>4</th>\n",
       "      <td>\"Tropical Storm Eta causes widespread flooding...</td>\n",
       "      <td>Real disaster</td>\n",
       "      <td>0.8502</td>\n",
       "      <td>605c346f-efda-4598-884b-9f16bf97f2b4</td>\n",
       "      <td>Real disaster</td>\n",
       "      <td>0.8718</td>\n",
       "    </tr>\n",
       "  </tbody>\n",
       "</table>\n",
       "</div>"
      ],
      "text/plain": [
       "                                               input     prod_output  \\\n",
       "0  \"Happy to announce that we've hit a new milest...  Not a disaster   \n",
       "1  \"Just witnessed a beautiful sunset on my eveni...  Not a disaster   \n",
       "2  \"Just finished a great book, definitely recomm...  Not a disaster   \n",
       "3  \"Flash floods hit the midwest, leaving several...   Real disaster   \n",
       "4  \"Tropical Storm Eta causes widespread flooding...   Real disaster   \n",
       "\n",
       "   prod_prob_score                               eventId   shadow_output  \\\n",
       "0           0.8272  95512f59-6bf9-4e0f-a337-968429d92bd3  Not a disaster   \n",
       "1           0.7350  51b3f028-72ab-46d8-9de9-c39e5c42f7be  Not a disaster   \n",
       "2           0.8111  a698d805-8938-43cd-9545-b8b02bd018f5  Not a disaster   \n",
       "3           0.8507  2e5c0d88-236c-4648-9c45-0e4539b893fa   Real disaster   \n",
       "4           0.8502  605c346f-efda-4598-884b-9f16bf97f2b4   Real disaster   \n",
       "\n",
       "   shadow_prob_score  \n",
       "0             0.8586  \n",
       "1             0.8185  \n",
       "2             0.8570  \n",
       "3             0.8767  \n",
       "4             0.8718  "
      ]
     },
     "execution_count": 43,
     "metadata": {},
     "output_type": "execute_result"
    }
   ],
   "source": [
    "import pandas as pd\n",
    "final_df = pd.merge(prod_var_df, shadow_var_df, on='eventId', how='right')\n",
    "final_df"
   ]
  },
  {
   "cell_type": "code",
   "execution_count": 45,
   "id": "5538663d",
   "metadata": {},
   "outputs": [
    {
     "data": {
      "text/html": [
       "<div>\n",
       "<style scoped>\n",
       "    .dataframe tbody tr th:only-of-type {\n",
       "        vertical-align: middle;\n",
       "    }\n",
       "\n",
       "    .dataframe tbody tr th {\n",
       "        vertical-align: top;\n",
       "    }\n",
       "\n",
       "    .dataframe thead th {\n",
       "        text-align: right;\n",
       "    }\n",
       "</style>\n",
       "<table border=\"1\" class=\"dataframe\">\n",
       "  <thead>\n",
       "    <tr style=\"text-align: right;\">\n",
       "      <th></th>\n",
       "      <th>input</th>\n",
       "      <th>prod_output</th>\n",
       "      <th>prod_prob_score</th>\n",
       "      <th>eventId</th>\n",
       "      <th>shadow_output</th>\n",
       "      <th>shadow_prob_score</th>\n",
       "      <th>prob_score_diff</th>\n",
       "    </tr>\n",
       "  </thead>\n",
       "  <tbody>\n",
       "    <tr>\n",
       "      <th>0</th>\n",
       "      <td>\"Happy to announce that we've hit a new milest...</td>\n",
       "      <td>Not a disaster</td>\n",
       "      <td>0.8272</td>\n",
       "      <td>95512f59-6bf9-4e0f-a337-968429d92bd3</td>\n",
       "      <td>Not a disaster</td>\n",
       "      <td>0.8586</td>\n",
       "      <td>0.0314</td>\n",
       "    </tr>\n",
       "    <tr>\n",
       "      <th>1</th>\n",
       "      <td>\"Just witnessed a beautiful sunset on my eveni...</td>\n",
       "      <td>Not a disaster</td>\n",
       "      <td>0.7350</td>\n",
       "      <td>51b3f028-72ab-46d8-9de9-c39e5c42f7be</td>\n",
       "      <td>Not a disaster</td>\n",
       "      <td>0.8185</td>\n",
       "      <td>0.0835</td>\n",
       "    </tr>\n",
       "    <tr>\n",
       "      <th>2</th>\n",
       "      <td>\"Just finished a great book, definitely recomm...</td>\n",
       "      <td>Not a disaster</td>\n",
       "      <td>0.8111</td>\n",
       "      <td>a698d805-8938-43cd-9545-b8b02bd018f5</td>\n",
       "      <td>Not a disaster</td>\n",
       "      <td>0.8570</td>\n",
       "      <td>0.0459</td>\n",
       "    </tr>\n",
       "    <tr>\n",
       "      <th>3</th>\n",
       "      <td>\"Flash floods hit the midwest, leaving several...</td>\n",
       "      <td>Real disaster</td>\n",
       "      <td>0.8507</td>\n",
       "      <td>2e5c0d88-236c-4648-9c45-0e4539b893fa</td>\n",
       "      <td>Real disaster</td>\n",
       "      <td>0.8767</td>\n",
       "      <td>0.0260</td>\n",
       "    </tr>\n",
       "    <tr>\n",
       "      <th>4</th>\n",
       "      <td>\"Tropical Storm Eta causes widespread flooding...</td>\n",
       "      <td>Real disaster</td>\n",
       "      <td>0.8502</td>\n",
       "      <td>605c346f-efda-4598-884b-9f16bf97f2b4</td>\n",
       "      <td>Real disaster</td>\n",
       "      <td>0.8718</td>\n",
       "      <td>0.0216</td>\n",
       "    </tr>\n",
       "  </tbody>\n",
       "</table>\n",
       "</div>"
      ],
      "text/plain": [
       "                                               input     prod_output  \\\n",
       "0  \"Happy to announce that we've hit a new milest...  Not a disaster   \n",
       "1  \"Just witnessed a beautiful sunset on my eveni...  Not a disaster   \n",
       "2  \"Just finished a great book, definitely recomm...  Not a disaster   \n",
       "3  \"Flash floods hit the midwest, leaving several...   Real disaster   \n",
       "4  \"Tropical Storm Eta causes widespread flooding...   Real disaster   \n",
       "\n",
       "   prod_prob_score                               eventId   shadow_output  \\\n",
       "0           0.8272  95512f59-6bf9-4e0f-a337-968429d92bd3  Not a disaster   \n",
       "1           0.7350  51b3f028-72ab-46d8-9de9-c39e5c42f7be  Not a disaster   \n",
       "2           0.8111  a698d805-8938-43cd-9545-b8b02bd018f5  Not a disaster   \n",
       "3           0.8507  2e5c0d88-236c-4648-9c45-0e4539b893fa   Real disaster   \n",
       "4           0.8502  605c346f-efda-4598-884b-9f16bf97f2b4   Real disaster   \n",
       "\n",
       "   shadow_prob_score  prob_score_diff  \n",
       "0             0.8586           0.0314  \n",
       "1             0.8185           0.0835  \n",
       "2             0.8570           0.0459  \n",
       "3             0.8767           0.0260  \n",
       "4             0.8718           0.0216  "
      ]
     },
     "execution_count": 45,
     "metadata": {},
     "output_type": "execute_result"
    }
   ],
   "source": [
    "final_df = final_df.assign(prob_score_diff=final_df['shadow_prob_score'] - final_df['prod_prob_score'])\n",
    "final_df"
   ]
  },
  {
   "cell_type": "code",
   "execution_count": 73,
   "id": "3a45b7b6",
   "metadata": {},
   "outputs": [
    {
     "data": {
      "image/png": "[encoded data removed]",
      "text/plain": [
       "<Figure size 640x480 with 1 Axes>"
      ]
     },
     "metadata": {},
     "output_type": "display_data"
    }
   ],
   "source": [
    "import matplotlib.pyplot as plt\n",
    "import seaborn as sns\n",
    "\n",
    "sns.pointplot(\n",
    "    x=final_df.index, \n",
    "    y=final_df.prob_score_diff, \n",
    "    data=final_df);\n",
    "\n",
    "plt.show()"
   ]
  },
  {
   "cell_type": "markdown",
   "id": "c3f1e929",
   "metadata": {},
   "source": [
    "We can observe that shadow variant (BERT model fine-tuned with 3 epochs) results are better than existing production variant (BERT model fine-tuned with 2 epochs) hence we can promote shadow variant as a production variant.\n",
    "\n",
    "Note: We can also leverage the Canary deployment strategy even after completing the shadow testing."
   ]
  },
  {
   "cell_type": "markdown",
   "id": "db05aa15",
   "metadata": {},
   "source": [
    "<a id = '9.0'></a>\n",
    "<h2 style = \"font-size:35px; font-family:Garamond ; font-weight : normal; background-color: #007580; color :#fed049   ; text-align: center; border-radius: 5px 5px; padding: 5px\"> 9. Promote the shadow variant as a production variant </h2>"
   ]
  },
  {
   "cell_type": "code",
   "execution_count": null,
   "id": "d216b485",
   "metadata": {},
   "outputs": [],
   "source": [
    "tweet_cls_v2_prod_epc_name = name_with_timestamp('tweet-classifier-v2-prod-epc')\n",
    "\n",
    "# Create an endpoint config with production variant\n",
    "endpoint_config_response = sm_boto3.create_endpoint_config(\n",
    "    EndpointConfigName = tweet_cls_v2_prod_epc_name,\n",
    "    ProductionVariants=[\n",
    "        {\n",
    "        'InstanceType':'ml.m5.xlarge',\n",
    "        'InitialInstanceCount':1,\n",
    "        'ModelName':tweet_cls_v2_model_name,\n",
    "        'VariantName':production_variant_name,\n",
    "        'InitialVariantWeight':1\n",
    "        }\n",
    "    ])\n",
    "\n",
    "print('Endpoint configuration arn:  {}'.format(endpoint_config_response['EndpointConfigArn']))\n",
    "\n",
    "# Update an endpoint with production endpoint config\n",
    "endpoint_params = {'EndpointName': tweet_cls_endpoint_name, 'EndpointConfigName': tweet_cls_v2_prod_epc_name}\n",
    "endpoint_response = sm_boto3.update_endpoint(**endpoint_params)"
   ]
  },
  {
   "cell_type": "markdown",
   "id": "93456458",
   "metadata": {},
   "source": [
    "<a id = '10.0'></a>\n",
    "<h2 style = \"font-size:35px; font-family:Garamond ; font-weight : normal; background-color: #007580; color :#fed049   ; text-align: center; border-radius: 5px 5px; padding: 5px\"> 10. Clean up </h2>"
   ]
  },
  {
   "cell_type": "code",
   "execution_count": null,
   "id": "11ae0805",
   "metadata": {},
   "outputs": [],
   "source": [
    "sm_boto3.delete_endpoint(EndpointName=tweet_cls_endpoint_name)\n",
    "sm_boto3.delete_endpoint_config(EndpointConfigName=tweet_cls_v1_epc_name)\n",
    "sm_boto3.delete_endpoint_config(EndpointConfigName=tweet_cls_v2_shadow_epc_name)\n",
    "sm_boto3.delete_endpoint_config(EndpointConfigName=tweet_cls_v2_prod_epc_name)\n",
    "sm_boto3.delete_model(ModelName=tweet_cls_v1_model_name)\n",
    "sm_boto3.delete_model(ModelName=tweet_cls_v2_model_name)"
   ]
  },
  {
   "cell_type": "markdown",
   "id": "3b818f4e",
   "metadata": {},
   "source": [
    "<a id = '11.0'></a>\n",
    "<h2 style = \"font-size:35px; font-family:Garamond ; font-weight : normal; background-color: #007580; color :#fed049   ; text-align: center; border-radius: 5px 5px; padding: 5px\"> 11. References and acknowledgements </h2>\n",
    "\n",
    "**References**\n",
    "\n",
    "- [Introducing Amazon SageMaker support for shadow testing](https://aws.amazon.com/about-aws/whats-new/2022/11/amazon-sagemaker-shadow-testing/)\n",
    "\n",
    "- [Minimize the production impact of ML model updates with Amazon SageMaker shadow testing](https://aws.amazon.com/blogs/machine-learning/minimize-the-production-impact-of-ml-model-updates-with-amazon-sagemaker-shadow-testing/)\n",
    "\n",
    "\n",
    "**Acknowledgements**\n",
    "\n",
    "Special thanks to the AWS SageMaker team (Raghu Ramesha, Qiyun Zhao, Qingwei Li, and Tarun Sairam) for their contribution in introducing the SageMaker support for shadow testing.\n",
    "\n",
    "\n",
    "I would love to hear your suggestions on further improvements and also welcome your code contribution to the [github repo](https://github.com/Vinayaks117/AWS-SageMaker-Examples.git)"
   ]
  }
 ],
 "metadata": {
  "instance_type": "ml.t3.medium",
  "kernelspec": {
   "display_name": "codeserver_py39",
   "language": "python",
   "name": "python3"
  },
  "language_info": {
   "codemirror_mode": {
    "name": "ipython",
    "version": 3
   },
   "file_extension": ".py",
   "mimetype": "text/x-python",
   "name": "python",
   "nbconvert_exporter": "python",
   "pygments_lexer": "ipython3",
   "version": "3.9.15"
  },
  "vscode": {
   "interpreter": {
    "hash": "c8dfa52194188e48d6802840b718748a7140cbefa937517cab1c2b201bcac497"
   }
  }
 },
 "nbformat": 4,
 "nbformat_minor": 5
}
